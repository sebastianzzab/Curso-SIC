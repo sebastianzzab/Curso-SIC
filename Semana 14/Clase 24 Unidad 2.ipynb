{
 "cells": [
  {
   "cell_type": "markdown",
   "metadata": {},
   "source": [
    "# Unidad 2. Aplicacion del modelo de aprendizaje supervisado para la prediccion numerica\n",
    "\n",
    "- 2.1. Entrenamiento y pruebas en Aprendizaje Automatico.\n",
    "- 2.2. Conceptos basicos de regresion lineal.\n",
    "- 2.3. Diagnostico de regresion lineal.\n",
    "- 2.4. Otros tipos de regresion.\n",
    "- 2.5. Practicando el modelo de aprendizaje supervisado para la prediccion numerica."
   ]
  },
  {
   "cell_type": "markdown",
   "metadata": {},
   "source": [
    "## 2.1. Entrenamiento y prueba en el aprendizaje automatico\n",
    "\n",
    "El verdadero aprendizaje no es solo tener buena una buena memoria. El material aprendidio debe ponerse a prueba. \n",
    "\n",
    "Un modelo entrenado debe ponerse a prueba para poder generalizar. EL reusltado de las pruebas se mide por los errores.\n",
    "\n",
    "### Tipos de error\n",
    "\n",
    "#### Error de sesgo (error de infraajuste)\n",
    "\n",
    "- Asociados a modelos simples/rigidos/precisos.\n",
    "- La prediccion no puede dar cuenta en detalle del patron de datos.\n",
    "- Para reducir este tipo de error, hay que aumentar la complejidad del modelo. \n",
    "\n",
    "#### Error de varianza (error de sobreajuste)\n",
    "\n",
    "- Asociados a modelos excesivamente complejos y sensibles al ruido.\n",
    "- El rendimiento de la prediccion es bueno mientras se entrena, pero empeora cuando se prueba con un conjunto de datos diferente.\n",
    "- Para reducir este tipo de error, aumente la cantidad de datos de entrenamiento (*) o disminuya la complejidad del modelo.\n",
    "\n",
    "#### Error total\n",
    "\n",
    "- El objetivo es minimizar el **Error total = Error de sesgo + Error de varianza**.\n",
    "- Se requiere la suficiente complejidad para \"optimizar\" el modelo.\n",
    "\n",
    "## Minimizar errores\n",
    "\n",
    "Modelo de aprendizaje automatico optimizado\n",
    "\n",
    "- El rendimiento de la prediccion debe ser bueno tanto en el entrenamiento como en las pruebas.\n",
    "- Dado un algoritmo de aprendizaje automatico, existe el modelo con la complejidad suficiente (*), esta suele estar controlada por el numero de parametros.\n",
    "\n",
    "## Metrica de errores\n",
    "\n",
    "**Numerico Y**\n",
    "- MSE, MAE, RMSE, correlacion, etc\n",
    "\n",
    "**Categorico Y**\n",
    "- Exactitud, precision, recuperacion, especificidad, etc\n"
   ]
  }
 ],
 "metadata": {
  "language_info": {
   "name": "python"
  }
 },
 "nbformat": 4,
 "nbformat_minor": 2
}
