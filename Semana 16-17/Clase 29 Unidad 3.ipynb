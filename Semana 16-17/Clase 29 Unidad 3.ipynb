{
 "cells": [
  {
   "cell_type": "markdown",
   "metadata": {},
   "source": [
    "# Unidad 3. Agrupacion no jerarquica\n",
    "\n",
    "- 3.1. Agrupamiento de K-medias\n",
    "- 3.2. Otros metodos de agrupacion "
   ]
  }
 ],
 "metadata": {
  "language_info": {
   "name": "python"
  }
 },
 "nbformat": 4,
 "nbformat_minor": 2
}
