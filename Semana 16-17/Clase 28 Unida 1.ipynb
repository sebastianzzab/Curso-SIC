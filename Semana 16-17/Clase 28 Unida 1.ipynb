{
 "cells": [
  {
   "cell_type": "markdown",
   "metadata": {},
   "source": [
    "----------------------------------------------------------\n",
    "# Aprendizaje automatico 2\n",
    "- Aprendizaje sin supervision \n",
    "----------------------------------------------------------\n",
    "- Unidad 1. Algoritmo de aprendizaje automatico no supervisado\n",
    "- Unidad 2. Clustering Jerarquico\n",
    "- Unidad 3. Clustering no jerarquico\n",
    "- Unidad  4. Modelo Factorial Lineal para Reduccion de Dimensionalidad"
   ]
  },
  {
   "cell_type": "markdown",
   "metadata": {},
   "source": []
  }
 ],
 "metadata": {
  "language_info": {
   "name": "python"
  }
 },
 "nbformat": 4,
 "nbformat_minor": 2
}
