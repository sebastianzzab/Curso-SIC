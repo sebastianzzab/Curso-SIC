{
 "cells": [
  {
   "cell_type": "markdown",
   "metadata": {},
   "source": [
    "## Coding Exercise #0404"
   ]
  },
  {
   "cell_type": "markdown",
   "metadata": {},
   "source": [
    "### 1. Dimensional reduction with PCA:"
   ]
  },
  {
   "cell_type": "code",
   "execution_count": null,
   "metadata": {},
   "outputs": [],
   "source": [
    "import numpy as np\n",
    "import pandas as pd\n",
    "import matplotlib.pyplot as plt\n",
    "from sklearn.datasets import make_blobs\n",
    "from sklearn.decomposition import PCA, NMF\n",
    "import os\n",
    "%matplotlib inline"
   ]
  },
  {
   "cell_type": "markdown",
   "metadata": {},
   "source": [
    "#### 1.1. Read in data and explore:"
   ]
  },
  {
   "cell_type": "code",
   "execution_count": null,
   "metadata": {},
   "outputs": [],
   "source": [
    "# Go to the directory where the data file is located. \n",
    "# os.chdir(r'~~')                # Please, replace the path with your own.   "
   ]
  },
  {
   "cell_type": "code",
   "execution_count": null,
   "metadata": {},
   "outputs": [],
   "source": [
    "df = pd.read_csv('data_number_nine.csv', header='infer')"
   ]
  },
  {
   "cell_type": "code",
   "execution_count": null,
   "metadata": {},
   "outputs": [],
   "source": [
    "df.shape"
   ]
  },
  {
   "cell_type": "code",
   "execution_count": null,
   "metadata": {},
   "outputs": [],
   "source": [
    "df.head(5)"
   ]
  },
  {
   "cell_type": "markdown",
   "metadata": {},
   "source": [
    "#### 1.2. Visualize the data:"
   ]
  },
  {
   "cell_type": "code",
   "execution_count": null,
   "metadata": {},
   "outputs": [],
   "source": [
    "# Define a suitable visualization function based on imshow().\n",
    "# Visualizes the whole dataset at once as pixel image.\n",
    "def ShowMe(X):\n",
    "    Y= 1.0 - X\n",
    "    plt.imshow(Y, cmap='gray')\n",
    "    plt.show()"
   ]
  },
  {
   "cell_type": "code",
   "execution_count": null,
   "metadata": {},
   "outputs": [],
   "source": [
    "X = np.array(df)\n",
    "ShowMe(X)"
   ]
  },
  {
   "cell_type": "markdown",
   "metadata": {},
   "source": [
    "#### 1.3. Visualize the reduced dimensional input by PCA:"
   ]
  },
  {
   "cell_type": "code",
   "execution_count": null,
   "metadata": {},
   "outputs": [],
   "source": [
    "# Define a function that returns reduced dimensional input.\n",
    "def reducedInputPCA(X,nPC):\n",
    "    pca = PCA(n_components = nPC)                           # Define a PCA object for a given number of target PCs. \n",
    "    X_pca = pca.fit_transform(X)                            # Get the transformed scores.\n",
    "    return pca.inverse_transform(X_pca)                     # Bring back the transformed scores to the original coordinate system."
   ]
  },
  {
   "cell_type": "code",
   "execution_count": null,
   "metadata": {},
   "outputs": [],
   "source": [
    "# Visualize the reduced dimensional input for different cases.\n",
    "# As we shrink the dimension, the image gets less clear.\n",
    "for nPC in [23, 10, 5, 3, 1]:\n",
    "    Z = reducedInputPCA(X,nPC)\n",
    "    print( \"N# of PCs = \" + str(nPC))\n",
    "    ShowMe(Z)"
   ]
  },
  {
   "cell_type": "markdown",
   "metadata": {},
   "source": [
    "#### 1.4. Analysis of the cumulative variance ratio (CVR):"
   ]
  },
  {
   "cell_type": "code",
   "execution_count": null,
   "metadata": {},
   "outputs": [],
   "source": [
    "pca = PCA(n_components = 23)                          # Define a PCA object.\n",
    "pca.fit(X)                                            # Train with the data."
   ]
  },
  {
   "cell_type": "code",
   "execution_count": null,
   "metadata": {},
   "outputs": [],
   "source": [
    "# Visualize the CVRs as a Barplot.\n",
    "CVRs = np.cumsum(pca.explained_variance_ratio_)        # Calculate the CVRs.\n",
    "nPCs = np.arange(23)+1                                 # Define an array that corresponds to the number of PCs.\n",
    "plt.bar(nPCs,CVRs,color = 'green', alpha=0.7)  \n",
    "plt.title('Cumulative Variance Ratio')\n",
    "plt.show()"
   ]
  },
  {
   "cell_type": "markdown",
   "metadata": {},
   "source": [
    "### 2. Dimensional reduction with NMF:"
   ]
  },
  {
   "cell_type": "markdown",
   "metadata": {},
   "source": [
    "NMF (Non-negative Matrix Factorization) is applicable for data matrix that contains only non-negative values.<br>\n",
    "Similar to PCA, we can do dimensional reduction and obtain reduced dimensional input using NMF. <br>\n",
    "We notice that we get a bit less 'noisy' images compared to the result of PCA.<br>\n",
    "More information at [Wikipedia](https://en.wikipedia.org/wiki/Non-negative_matrix_factorization)."
   ]
  },
  {
   "cell_type": "markdown",
   "metadata": {},
   "source": [
    "#### 2.1. Visualize the reduced dimensional input by NMF:"
   ]
  },
  {
   "cell_type": "code",
   "execution_count": null,
   "metadata": {},
   "outputs": [],
   "source": [
    "# Define a function that returns reduced dimensional input.\n",
    "def reducedInputNMF(X,n):\n",
    "    nmf = NMF(n_components=n, init='random', random_state=0)      # Define a NMF object for a given number of target components.\n",
    "    X_nmf = nmf.fit_transform(X)                                  # Get the transformed scores.        \n",
    "    return nmf.inverse_transform(X_nmf)                           # Bring back the transformed scores to the original coordinate system."
   ]
  },
  {
   "cell_type": "code",
   "execution_count": null,
   "metadata": {},
   "outputs": [],
   "source": [
    "# Visualize the reduced dimensional input for different cases.\n",
    "# As we shrink the dimension, the image gets less clear.\n",
    "for n in [23, 10, 5, 3, 1]:\n",
    "    Z = reducedInputNMF(X,n)\n",
    "    print( \"N# of Components = \" + str(n))\n",
    "    ShowMe(Z)"
   ]
  },
  {
   "cell_type": "markdown",
   "metadata": {},
   "source": [
    "### 3. Optimized high dimensional visualiztion with PCA:"
   ]
  },
  {
   "cell_type": "markdown",
   "metadata": {},
   "source": [
    "#### 3.1. Simulate data:"
   ]
  },
  {
   "cell_type": "code",
   "execution_count": null,
   "metadata": {},
   "outputs": [],
   "source": [
    "# 3 clusters in 8 dimensional space.\n",
    "# Hard to visualize!\n",
    "X, label = make_blobs(n_samples=150, n_features=8, centers=3, cluster_std = 5, random_state=123)\n",
    "X.shape"
   ]
  },
  {
   "cell_type": "code",
   "execution_count": null,
   "metadata": {},
   "outputs": [],
   "source": [
    "# Define a custom color palette.\n",
    "myColors = {0:'red',1:'green',2:'blue'}  \n",
    "labelColors = pd.Series(label).apply(lambda x: myColors[x])"
   ]
  },
  {
   "cell_type": "code",
   "execution_count": null,
   "metadata": {},
   "outputs": [],
   "source": [
    "# Visualize on the X1 vs X2 plane. X1 ==> column 0,  X2 ==> column 1.  \n",
    "# We can hardly tell the clusters apart! \n",
    "# The clusters largely overlap.\n",
    "plt.scatter(X[:,0],X[:,1],marker=\"o\",alpha=0.7, s=10, c=labelColors)\n",
    "plt.xlabel(\"X1\")\n",
    "plt.ylabel(\"X2\")\n",
    "plt.show()"
   ]
  },
  {
   "cell_type": "code",
   "execution_count": null,
   "metadata": {},
   "outputs": [],
   "source": [
    "# Visualize on the X1 vs X5 plane. X1 ==> column 0,  X5 ==> column 4.  \n",
    "# We can hardly tell the clusters apart!\n",
    "# The clusters largely overlap.\n",
    "plt.scatter(X[:,0],X[:,4],marker=\"o\",alpha=0.7, s=10, c=labelColors)\n",
    "plt.xlabel(\"X1\")\n",
    "plt.ylabel(\"X5\")\n",
    "plt.show()"
   ]
  },
  {
   "cell_type": "code",
   "execution_count": null,
   "metadata": {},
   "outputs": [],
   "source": [
    "# Visualize on the X5 vs X8 plane. X5 ==> column 4,  X8 ==> column 7.  \n",
    "# We can hardly tell the clusters apart!\n",
    "# The clusters largely overlap.\n",
    "plt.scatter(X[:,4],X[:,7],marker=\"o\",alpha=0.7, s=10, c=labelColors)\n",
    "plt.xlabel(\"X5\")\n",
    "plt.ylabel(\"X8\")\n",
    "plt.show()"
   ]
  },
  {
   "cell_type": "markdown",
   "metadata": {},
   "source": [
    "#### 3.2. Visualize on the plane defined by PC1 and PC2:"
   ]
  },
  {
   "cell_type": "code",
   "execution_count": null,
   "metadata": {},
   "outputs": [],
   "source": [
    "# Only 2 first PCs are needed. \n",
    "pca = PCA(n_components = 2)\n",
    "X_pca = pca.fit_transform(X)"
   ]
  },
  {
   "cell_type": "code",
   "execution_count": null,
   "metadata": {},
   "outputs": [],
   "source": [
    "# Visualize on the PC1 vs PC2 plane.\n",
    "# The clusters overlap the least!\n",
    "plt.scatter(X_pca[:,0],X_pca[:,1],marker=\"o\",alpha=0.7, s=10, c=labelColors)\n",
    "plt.xlabel(\"PC1\")\n",
    "plt.ylabel(\"PC2\")\n",
    "plt.show()"
   ]
  },
  {
   "cell_type": "code",
   "execution_count": null,
   "metadata": {},
   "outputs": [],
   "source": []
  }
 ],
 "metadata": {
  "kernelspec": {
   "display_name": "Python 3",
   "language": "python",
   "name": "python3"
  },
  "language_info": {
   "codemirror_mode": {
    "name": "ipython",
    "version": 3
   },
   "file_extension": ".py",
   "mimetype": "text/x-python",
   "name": "python",
   "nbconvert_exporter": "python",
   "pygments_lexer": "ipython3",
   "version": "3.8.8"
  }
 },
 "nbformat": 4,
 "nbformat_minor": 2
}
