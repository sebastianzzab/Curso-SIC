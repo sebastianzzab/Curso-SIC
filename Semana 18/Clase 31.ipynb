{
 "cells": [
  {
   "cell_type": "markdown",
   "metadata": {},
   "source": [
    "# Capitulo 7. Procesamiento del lenguaje natural y modelos linguisticos para la mineria de textos\n",
    "\n",
    "**Contenido del capitulo**\n",
    "- Unidad 1. Mineria de textos.\n",
    "- Unidad 2. Preprocesamiento de textos.\n",
    "- Unidad 3. Modelo linguistico.\n",
    "- Unidad 4. Procesamiento del lenguaje natural con Keras"
   ]
  },
  {
   "cell_type": "markdown",
   "metadata": {},
   "source": [
    "## Unidad 1. Mineria de textos"
   ]
  },
  {
   "cell_type": "markdown",
   "metadata": {},
   "source": [
    "**1.1. ¿Qué es la minería de textos?**\n",
    "\n",
    "\n",
    "\n"
   ]
  },
  {
   "cell_type": "code",
   "execution_count": null,
   "metadata": {},
   "outputs": [],
   "source": []
  },
  {
   "cell_type": "code",
   "execution_count": null,
   "metadata": {},
   "outputs": [],
   "source": []
  }
 ],
 "metadata": {
  "language_info": {
   "name": "python"
  }
 },
 "nbformat": 4,
 "nbformat_minor": 2
}
