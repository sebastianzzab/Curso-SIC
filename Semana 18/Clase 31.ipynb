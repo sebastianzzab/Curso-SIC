{
 "cells": [
  {
   "cell_type": "markdown",
   "metadata": {},
   "source": [
    "# Capitulo 7. Procesamiento del lenguaje natural y modelos linguisticos para la mineria de textos\n",
    "\n",
    "**Contenido del capitulo**\n",
    "- Unidad 1. Mineria de textos.\n",
    "- Unidad 2. Preprocesamiento de textos.\n",
    "- Unidad 3. Modelo linguistico.\n",
    "- Unidad 4. Procesamiento del lenguaje natural con Keras"
   ]
  },
  {
   "cell_type": "markdown",
   "metadata": {},
   "source": [
    "## Unidad 1. Mineria de textos"
   ]
  },
  {
   "cell_type": "markdown",
   "metadata": {},
   "source": [
    "**1.1. ¿Qué es la minería de textos?**\n",
    "\n",
    "Primeramente, hay que saber que son los datos no estructurados. Siendo estos, datos que aún no están estructurados. Por lo que, no tienen un modelo de datos definido (estructura). Ejemplos de estos tenemos los documentos, videos o audios, dado que tienen una gran cantidad de datos, pero con estructuras y formas variadas. De igual forma, los libros, las revistas, los documentos, los metadatos, los historiales médicos, el audio, el video, los datos analógicos, los archivos y también los mensajes de correo electrónico, las páginas web y los documentos de los procesadores de texto están compuestos por textos no estructurados. \n",
    "\n",
    "**Análisis de datos no estructurados**\n",
    "\n",
    "En este se introducen etiquetas manualmente en los metadatos para estructurar los textos. La estructuración de datos basada en la minería de textos utiliza un método que crea una etiqueta para que una palabra del texto y una parte del discurso se correspondan.\n",
    "\n",
    "En resumen, permite la reducción semántica a partir de textos, sintaxis y otros patrones pequeños o grandes. Este análisis utiliza algoritmos que inspeccionan toda la estructura interna de la comunicación humana en la unidad de la palabra, formando en la estructura lingüística, auditiva, visual. \n",
    "\n",
    "La mineria de textos o el analisis de textos es una tecnologia que extrae informacion util de datos de texto no estructurados. \n",
    "\n",
    "En concreto, se trata de encontrar patrones practicos a partir de una gran cantidad de datos de documentos mediante la aplicacion de algoritmos mecanicos y tecnicas estadisticas. \n",
    "\n",
    "**Mineria de textos vs mineria de datos**\n",
    "\n",
    "La mineria de datos extrae patrones utiles y valiosos de los datos estructurados. En cambio, la mineria de textos extrae entidades con nombre, patrones o informacion sobre relaciones entre palabras y frases a partir de datos no estructurados compuestos por lenguaje natural.\n",
    "\n",
    "**Mineria de textos frente a procesamiento del lenguaje natural (PLN)**\n",
    "\n",
    "La PLN es un campo de la IA que se ocupa de la comunicacion. Por otro lado, la mineria de textos es una subcategoria de la ciencia de la mineria de datos.\n",
    "\n",
    "La PLN reconoce el texto y la voz, mientras que la mineria de textos evalua su calidad.\n",
    "\n",
    "La PLN ofrece la comprension de las emociones implicadas y la estructura gramatical, y detecta la intencion detras de un texto - Esto ayuda a la traduccion fluida del texto a otro idioma. Por su parte, la mineria de textos descubre la relacion entre las palabras del texto - Analiza la frecuencia de uso de las palabras y los patrones.\n",
    "\n",
    "\n",
    "\n",
    "\n",
    "\n",
    "\n",
    "\n",
    "\n",
    "\n"
   ]
  }
 ],
 "metadata": {
  "language_info": {
   "name": "python"
  }
 },
 "nbformat": 4,
 "nbformat_minor": 2
}
