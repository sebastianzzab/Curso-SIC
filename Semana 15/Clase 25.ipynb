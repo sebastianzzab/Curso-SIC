{
 "cells": [
  {
   "cell_type": "markdown",
   "metadata": {},
   "source": [
    "# Unidad 3. Aplicacion del Modelo de Aprendizaje Supervisado para la Clasificacion\n",
    "\n",
    "- 3.1. Entrenamiento y Pruebas en Aprendizaje Automatico\n",
    "- 3.2. Conceptos basicos de regresion logistica.\n",
    "- 3.3. Metricas de rendimiento de regresion logistica"
   ]
  },
  {
   "cell_type": "markdown",
   "metadata": {},
   "source": [
    "## 3.1. Entrenamiento y Pruebas en Aprendizaje Automatico"
   ]
  },
  {
   "cell_type": "markdown",
   "metadata": {},
   "source": [
    "El aprendizaje supervisado son tareas de aprendizaje automatico que intenta predecir o clasificar los valores de las variabeles objetivas "
   ]
  },
  {
   "cell_type": "code",
   "execution_count": null,
   "metadata": {},
   "outputs": [],
   "source": []
  }
 ],
 "metadata": {
  "language_info": {
   "name": "python"
  }
 },
 "nbformat": 4,
 "nbformat_minor": 2
}
